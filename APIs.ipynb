{
 "cells": [
  {
   "cell_type": "markdown",
   "metadata": {},
   "source": [
    "# APIs\n"
   ]
  },
  {
   "cell_type": "markdown",
   "metadata": {},
   "source": [
    "## Tasks Today:\n",
    "1) <b>Requests and the pokemon API </b> <br>\n",
    " "
   ]
  },
  {
   "cell_type": "markdown",
   "metadata": {},
   "source": [
    "# working with APis"
   ]
  },
  {
   "cell_type": "markdown",
   "metadata": {},
   "source": [
    "<p> What exactly is an API? <br> <br>\n",
    "API is the acronym for Application Programming Interface, which is a software intermediary that allows two applications to talk to each other. Each time you use an app like Facebook, send an instant message, or check the weather on your phone, you're using an API. </p>"
   ]
  },
  {
   "cell_type": "markdown",
   "metadata": {},
   "source": [
    "### The Poke API  allows you to retreive a pokemon's information from PokeAPI https://pokeapi.co/\n",
    "\n"
   ]
  },
  {
   "cell_type": "code",
   "execution_count": 13,
   "metadata": {},
   "outputs": [
    {
     "name": "stdout",
     "output_type": "stream",
     "text": [
      "What Pokemon are you looking for? pikachu\n",
      "Success\n"
     ]
    }
   ],
   "source": [
    "# making an API call\n",
    "import requests\n",
    "\n",
    "api_endpoint = 'https://pokeapi.co/api/v2/pokemon/'\n",
    "\n",
    "#requests.get(api_endpoint+'dragapult')\n",
    "\n",
    "pokemon = input('What Pokemon are you looking for? ')\n",
    "\n",
    "response = requests.get(f'{api_endpoint}{pokemon}')\n",
    "\n",
    "#access status code\n",
    "response.status_code\n",
    "\n",
    "if response.status_code == 200:\n",
    "    data = response.json()\n",
    "    print('Success')\n",
    "else:\n",
    "    print(f'Error, Status code {response.status_code}')"
   ]
  },
  {
   "cell_type": "markdown",
   "metadata": {},
   "source": [
    "### Display a Pokemon's name, weight, abilities, and types"
   ]
  },
  {
   "cell_type": "code",
   "execution_count": 14,
   "metadata": {},
   "outputs": [],
   "source": [
    "# get the name\n",
    "name = data['name']"
   ]
  },
  {
   "cell_type": "code",
   "execution_count": 15,
   "metadata": {},
   "outputs": [
    {
     "data": {
      "text/plain": [
       "[{'slot': 1,\n",
       "  'type': {'name': 'electric', 'url': 'https://pokeapi.co/api/v2/type/13/'}}]"
      ]
     },
     "execution_count": 15,
     "metadata": {},
     "output_type": "execute_result"
    }
   ],
   "source": [
    "# get types\n",
    "data['types']"
   ]
  },
  {
   "cell_type": "code",
   "execution_count": 16,
   "metadata": {},
   "outputs": [
    {
     "ename": "NameError",
     "evalue": "name 'types' is not defined",
     "output_type": "error",
     "traceback": [
      "\u001b[1;31m---------------------------------------------------------------------------\u001b[0m",
      "\u001b[1;31mNameError\u001b[0m                                 Traceback (most recent call last)",
      "Cell \u001b[1;32mIn[16], line 1\u001b[0m\n\u001b[1;32m----> 1\u001b[0m [type_dict[\u001b[38;5;124m'\u001b[39m\u001b[38;5;124mtype\u001b[39m\u001b[38;5;124m'\u001b[39m][\u001b[38;5;124m'\u001b[39m\u001b[38;5;124mname\u001b[39m\u001b[38;5;124m'\u001b[39m] \u001b[38;5;28;01mfor\u001b[39;00m type_dict \u001b[38;5;129;01min\u001b[39;00m \u001b[43mtypes\u001b[49m]\n",
      "\u001b[1;31mNameError\u001b[0m: name 'types' is not defined"
     ]
    }
   ],
   "source": [
    "[type_dict['type']['name'] for type_dict in types]"
   ]
  },
  {
   "cell_type": "code",
   "execution_count": 17,
   "metadata": {},
   "outputs": [
    {
     "data": {
      "text/plain": [
       "60"
      ]
     },
     "execution_count": 17,
     "metadata": {},
     "output_type": "execute_result"
    }
   ],
   "source": [
    "# get weight\n",
    "data ['weight']"
   ]
  },
  {
   "cell_type": "code",
   "execution_count": 18,
   "metadata": {},
   "outputs": [],
   "source": [
    "# get abilities\n",
    "abilities = data['abilities']"
   ]
  },
  {
   "cell_type": "code",
   "execution_count": 29,
   "metadata": {},
   "outputs": [
    {
     "data": {
      "text/plain": [
       "['clear-body', 'infiltrator', 'cursed-body']"
      ]
     },
     "execution_count": 29,
     "metadata": {},
     "output_type": "execute_result"
    }
   ],
   "source": [
    "[ability_dict['ability']['name'] for ability_dict in abilities]"
   ]
  },
  {
   "cell_type": "code",
   "execution_count": 19,
   "metadata": {},
   "outputs": [
    {
     "ename": "SyntaxError",
     "evalue": "invalid syntax. Perhaps you forgot a comma? (3052816327.py, line 3)",
     "output_type": "error",
     "traceback": [
      "\u001b[1;36m  Cell \u001b[1;32mIn[19], line 3\u001b[1;36m\u001b[0m\n\u001b[1;33m    'abilities':data['abilites']\u001b[0m\n\u001b[1;37m                ^\u001b[0m\n\u001b[1;31mSyntaxError\u001b[0m\u001b[1;31m:\u001b[0m invalid syntax. Perhaps you forgot a comma?\n"
     ]
    }
   ],
   "source": [
    "# Create a structure for a single pokemon\n",
    "pokemindict = {\n",
    "    'abilities':data['abilites']\n",
    "    'name':data['name']\n",
    "    'types':data['types']\n",
    "    'weight':data['weight']\n",
    "}"
   ]
  },
  {
   "cell_type": "code",
   "execution_count": null,
   "metadata": {},
   "outputs": [],
   "source": []
  },
  {
   "cell_type": "code",
   "execution_count": null,
   "metadata": {},
   "outputs": [],
   "source": []
  },
  {
   "cell_type": "markdown",
   "metadata": {},
   "source": [
    "#### Create a function to Pull in your own Pokemon's data "
   ]
  },
  {
   "cell_type": "code",
   "execution_count": null,
   "metadata": {},
   "outputs": [],
   "source": [
    "import requests\n",
    "\n",
    "api_endpoint = 'https://pokeapi.co/api/v2/pokemon/'\n",
    "\n",
    "#access api endpoint with pokemon input\n",
    "#check status\n",
    "#access dict key: abilities, types, name, weight\n",
    "#stor values in dictionary\n",
    "\n",
    "def poke_api_call2(pokemon):\n",
    "    response = requests.get(f'https://pokeapi.co/api/v2/pokemon/{pokemon}')\n",
    "    \n",
    "    if response.status_code == 200:\n",
    "        print('success')\n",
    "        data = response.json()\n",
    "        pokemon_dict = {key: data[key] for key in ['name', 'abilities', 'types', 'weight']}\n",
    "        \n",
    "    else:\n",
    "        \n",
    "        print(f'error, bad request {response.status_code}')\n",
    "    return pokemon_dict\n",
    "\n",
    "poke_api_call2('dragapult')\n",
    "    "
   ]
  },
  {
   "cell_type": "markdown",
   "metadata": {},
   "source": [
    "Choose your pokemon"
   ]
  },
  {
   "cell_type": "code",
   "execution_count": null,
   "metadata": {},
   "outputs": [],
   "source": [
    "#from random import randint\n",
    "# Random number generated for each pokemon id\n",
    "#random_team = [randint(1,1010) for i in range(6)]\n",
    "\n",
    "your_team = ['tinkaton', 'kilowattrel','arcanine','palafin','slaking','annihilape']\n"
   ]
  },
  {
   "cell_type": "markdown",
   "metadata": {},
   "source": [
    "#### Use your function to create a dictionary of your Johto League 6  (favorite 6 pokemon)"
   ]
  },
  {
   "cell_type": "code",
   "execution_count": null,
   "metadata": {},
   "outputs": [],
   "source": [
    "# Place all 6 of your pokemon on the object below, each pokemon should have at least as much info as Pikachu did.\n",
    "my_six_pokemon = {}\n",
    "\n",
    "for i in your_team:\n",
    "    poke_dict = poke_api_call2(i)\n",
    "    my_six_pokemon[poke_dict['name']] = poke_dict\n",
    "\n",
    "for k in my_six_pokemon:\n",
    "    print(k, ' ', my_six_pokemon[k])"
   ]
  },
  {
   "cell_type": "code",
   "execution_count": null,
   "metadata": {},
   "outputs": [],
   "source": []
  },
  {
   "cell_type": "markdown",
   "metadata": {},
   "source": [
    "## Lets create a class called 'Pokemon' and create our pokemon as instances"
   ]
  },
  {
   "cell_type": "code",
   "execution_count": null,
   "metadata": {},
   "outputs": [],
   "source": [
    "pokemon = {\n",
    "    'abilities':data['abilites']\n",
    "    'name':data['name']\n",
    "    'types':data['types']\n",
    "    'weight':data['weight']\n",
    "}"
   ]
  },
  {
   "cell_type": "code",
   "execution_count": null,
   "metadata": {},
   "outputs": [],
   "source": [
    "\n",
    "class Pokemon():\n",
    "    \n",
    "    def __init__(self, name):\n",
    "        self.name = name\n",
    "        self.abilities = []\n",
    "        self.types = []\n",
    "        self.weight = None\n",
    "        self.image = None\n",
    "        self.call_poke_api()\n",
    "        \n",
    "    def call_poke_api(self):\n",
    "        response = requests.get(f'https://pokeapi.co/api/v2/pokemon/{self.name}')\n",
    "        if response.status_code == 200:\n",
    "            print('success')\n",
    "            data = response.json()\n",
    "            self.name = data['name']\n",
    "            self.abilities = [ability_object['ability']['name'] for ability_object in data['abilities']]\n",
    "            self.types = [type_object['type']['name'] for type_object in data['types']]\n",
    "            self.weight = data['weight']\n",
    "            self.image = data['sprites']['other']['official-artwork']['front_shiny']\n",
    "        else:\n",
    "            print(f'error status code {response.status_code}')"
   ]
  },
  {
   "cell_type": "code",
   "execution_count": null,
   "metadata": {},
   "outputs": [],
   "source": [
    "new_poke = Pokemon('obstagoon')\n",
    "new_poke.call_poke_api()\n",
    "print(new_poke.weight)"
   ]
  },
  {
   "cell_type": "code",
   "execution_count": 39,
   "metadata": {},
   "outputs": [
    {
     "name": "stdout",
     "output_type": "stream",
     "text": [
      "success\n"
     ]
    },
    {
     "data": {
      "text/plain": [
       "'https://raw.githubusercontent.com/PokeAPI/sprites/master/sprites/pokemon/other/official-artwork/shiny/862.png'"
      ]
     },
     "execution_count": 39,
     "metadata": {},
     "output_type": "execute_result"
    }
   ],
   "source": [
    "another_poke = Pokemon('obstagoon')\n",
    "another_poke.name\n",
    "another_poke.abilities\n",
    "another_poke.image"
   ]
  },
  {
   "cell_type": "code",
   "execution_count": null,
   "metadata": {},
   "outputs": [],
   "source": [
    "from IPython.display import Image\n",
    "\n",
    "display(Image(another_poke.image))"
   ]
  },
  {
   "cell_type": "markdown",
   "metadata": {},
   "source": [
    "### Let's Catch some Pokemon"
   ]
  },
  {
   "cell_type": "code",
   "execution_count": 55,
   "metadata": {},
   "outputs": [],
   "source": [
    "williams_pokemon = ['tinkaton', 'kilowattrel','arcanine','palafin','slaking','annihilape']"
   ]
  },
  {
   "cell_type": "code",
   "execution_count": 56,
   "metadata": {},
   "outputs": [
    {
     "name": "stdout",
     "output_type": "stream",
     "text": [
      "success\n",
      "success\n",
      "success\n",
      "success\n",
      "success\n",
      "success\n",
      "{'tinkaton': <__main__.Pokemon object at 0x0000000009288EE0>, 'kilowattrel': <__main__.Pokemon object at 0x0000000005A7E3E0>, 'arcanine': <__main__.Pokemon object at 0x0000000000732BF0>, 'palafin': <__main__.Pokemon object at 0x000000000928AEF0>, 'slaking': <__main__.Pokemon object at 0x000000000928BCA0>, 'annihilape': <__main__.Pokemon object at 0x000000000928BDC0>}\n"
     ]
    }
   ],
   "source": [
    "for pokemon in williams_pokemon:\n",
    "    pokedex[pokemon] = Pokemon(pokemon)\n",
    "    \n",
    "print(pokedex)"
   ]
  },
  {
   "cell_type": "code",
   "execution_count": 52,
   "metadata": {},
   "outputs": [],
   "source": [
    "pokedex = {pokemon:Pokemon(pokemon) for pokemon in williams_pokemon}\n"
   ]
  },
  {
   "cell_type": "code",
   "execution_count": 65,
   "metadata": {},
   "outputs": [
    {
     "name": "stdout",
     "output_type": "stream",
     "text": [
      "success\n",
      "success\n"
     ]
    },
    {
     "data": {
      "text/plain": [
       "{'obstagoon': <__main__.Pokemon at 0x92267a0>,\n",
       " 'toedscruel': <__main__.Pokemon at 0x748d00>}"
      ]
     },
     "execution_count": 65,
     "metadata": {},
     "output_type": "execute_result"
    }
   ],
   "source": [
    "class Pokedex:\n",
    "    \n",
    "    def __init__(self, username):\n",
    "        self.username = username\n",
    "        self.pokemon = {}\n",
    "    \n",
    "    def add_pokemon(self, pokemon):\n",
    "        self.pokemon[pokemon] = Pokemon(pokemon)\n",
    "        \n",
    "new_pokedex = Pokedex('william')\n",
    "\n",
    "new_pokedex.add_pokemon('obstagoon')\n",
    "new_pokedex.add_pokemon('toedscruel')\n",
    "\n",
    "new_pokedex.username\n",
    "\n",
    "new_pokedex.pokemon"
   ]
  },
  {
   "cell_type": "code",
   "execution_count": 68,
   "metadata": {},
   "outputs": [
    {
     "name": "stdout",
     "output_type": "stream",
     "text": [
      "william's pokemon:\n",
      "obstagoon\n",
      "toedscruel\n"
     ]
    }
   ],
   "source": [
    "def print_user_pokemon(pokedex):\n",
    "    print(f'{pokedex.username}\\'s pokemon:')\n",
    "    poke_dict = pokedex.pokemon\n",
    "    for poke in poke_dict:\n",
    "        print(poke_dict[poke].name)\n",
    "\n",
    "print_user_pokemon(new_pokedex)\n",
    "          "
   ]
  },
  {
   "cell_type": "markdown",
   "metadata": {},
   "source": [
    "## Exercise 1:"
   ]
  },
  {
   "cell_type": "code",
   "execution_count": null,
   "metadata": {},
   "outputs": [],
   "source": []
  },
  {
   "cell_type": "markdown",
   "metadata": {},
   "source": [
    "### Create a Method prints an image of your pokemon\n",
    "\n",
    "<p>HINT: You may need another attribute as well to store your image url within. </p>"
   ]
  },
  {
   "cell_type": "code",
   "execution_count": 260,
   "metadata": {},
   "outputs": [],
   "source": [
    "url = \n",
    "class Pokemon2():\n",
    "    \n",
    "    def __init__(self, name, image):\n",
    "        self.name = name\n",
    "        self.image = ''\n",
    "        self.show()\n",
    "        \n",
    "    def show(self):\n",
    "        self.image = url\n",
    "        \n",
    "newPokemon = Pokemon2('pikachu', url)\n",
    "newPokemon.image\n",
    "display(Image(newPokemon.image, width = 300))"
   ]
  },
  {
   "cell_type": "code",
   "execution_count": 16,
   "metadata": {},
   "outputs": [],
   "source": [
    "# recreate your pokemon class here\n",
    "class Pokemon:\n",
    "    pass"
   ]
  },
  {
   "cell_type": "code",
   "execution_count": null,
   "metadata": {},
   "outputs": [],
   "source": []
  },
  {
   "cell_type": "code",
   "execution_count": 18,
   "metadata": {},
   "outputs": [],
   "source": [
    "# Calling our new method\n"
   ]
  },
  {
   "cell_type": "markdown",
   "metadata": {},
   "source": [
    "## Exercise 2:"
   ]
  },
  {
   "cell_type": "markdown",
   "metadata": {},
   "source": [
    "### Create a Method that evolves your Pokemon\n",
    "If your pokemon can't evolve any further print a message that says \"\\<name of pokemon> can't evolve.\""
   ]
  },
  {
   "cell_type": "code",
   "execution_count": 8,
   "metadata": {},
   "outputs": [],
   "source": [
    "#pokemon --> species --> url  --> evolution chain\n",
    "from requests import get\n",
    "\n",
    "class Pokemon():\n",
    "    \n",
    "    def __init__(self, name):\n",
    "        self.name = name\n",
    "        self.abilities = []\n",
    "        self.types = []\n",
    "        self.weight = None\n",
    "        self.image = None\n",
    "        self.call_poke_api()\n",
    "        \n",
    "    def call_poke_api(self):\n",
    "        response = get(f'https://pokeapi.co/api/v2/pokemon/{self.name}')\n",
    "        if response.status_code == 200:\n",
    "            print('Success')\n",
    "            data = response.json()\n",
    "            self.name = data['name']\n",
    "            self.abilites = [ability_object['ability']['name'] for ability_object in data['abilities']],\n",
    "            self.types = [type_object['type']['name'] for type_object in data['types']]\n",
    "            self.weight = data['weight']\n",
    "#             self.image = data['sprites']['front_defualt']\n",
    "            self.image = data['sprites']['versions']['generation-v']['black-white']['animated']['front_default']\n",
    "            if not self.image:\n",
    "                self.image = data['sprites']['front_default']\n",
    "            self.species_url = data['species']['url']\n",
    "        else:\n",
    "            print(f'Error status code {response.status_code}')\n",
    "            \n",
    "    def get_evolution_chain(self):\n",
    "        response = get(self.species_url)\n",
    "        if response.status_code == 200:\n",
    "            data = response.json()\n",
    "        evolution_chain_url = data['evolution_chain']['url']\n",
    "        evolution_chain = get(evolution_chain_url)\n",
    "        if evolution_chain.status_code == 200:\n",
    "            return evolution_chain.json()['chain']\n",
    "            \n",
    "    def evolve_pokemon(self, evolution_chain):\n",
    "        if not evolution_chain['evolves_to']:\n",
    "            print(f'This is the final from')\n",
    "            return\n",
    "        current_pokemon_in_chain = evolution_chain['species']['name']\n",
    "        next_pokemon_in_chain = evolution_chain['evolves_to'][0]['species']['name']\n",
    "        if current_pokemon_in_chain == self.name:\n",
    "            self.name = next_pokemon_in_chain\n",
    "            self.call_poke_api()\n",
    "            return\n",
    "        else:\n",
    "            return self.evolve_pokemon(evolution_chain['evolves_to'][0])"
   ]
  },
  {
   "cell_type": "code",
   "execution_count": 3,
   "metadata": {},
   "outputs": [
    {
     "ename": "IndentationError",
     "evalue": "unindent does not match any outer indentation level (<tokenize>, line 10)",
     "output_type": "error",
     "traceback": [
      "\u001b[1;36m  File \u001b[1;32m<tokenize>:10\u001b[1;36m\u001b[0m\n\u001b[1;33m    def evolve_pokemon(self, evolution_chain):\u001b[0m\n\u001b[1;37m    ^\u001b[0m\n\u001b[1;31mIndentationError\u001b[0m\u001b[1;31m:\u001b[0m unindent does not match any outer indentation level\n"
     ]
    }
   ],
   "source": []
  },
  {
   "cell_type": "markdown",
   "metadata": {},
   "source": [
    "Now let's evolve a few"
   ]
  },
  {
   "cell_type": "code",
   "execution_count": null,
   "metadata": {
    "scrolled": true
   },
   "outputs": [],
   "source": [
    "pikachu = Pokemon('pikachu')\n",
    "print(pikachu.name)\n"
   ]
  },
  {
   "cell_type": "code",
   "execution_count": 4,
   "metadata": {},
   "outputs": [
    {
     "ename": "AttributeError",
     "evalue": "'str' object has no attribute 'evolve_pokemon'",
     "output_type": "error",
     "traceback": [
      "\u001b[1;31m---------------------------------------------------------------------------\u001b[0m",
      "\u001b[1;31mAttributeError\u001b[0m                            Traceback (most recent call last)",
      "Cell \u001b[1;32mIn[4], line 1\u001b[0m\n\u001b[1;32m----> 1\u001b[0m \u001b[43mpokemon\u001b[49m\u001b[38;5;241;43m.\u001b[39;49m\u001b[43mevolve_pokemon\u001b[49m(pokemon\u001b[38;5;241m.\u001b[39mget_chain)\n\u001b[0;32m      3\u001b[0m \u001b[38;5;28mprint\u001b[39m(pokemon\u001b[38;5;241m.\u001b[39mname)\n\u001b[0;32m      5\u001b[0m \u001b[38;5;28;01mfrom\u001b[39;00m \u001b[38;5;21;01mIPython\u001b[39;00m\u001b[38;5;21;01m.\u001b[39;00m\u001b[38;5;21;01mdisplay\u001b[39;00m \u001b[38;5;28;01mimport\u001b[39;00m Image\n",
      "\u001b[1;31mAttributeError\u001b[0m: 'str' object has no attribute 'evolve_pokemon'"
     ]
    }
   ],
   "source": [
    "pikachu.evolve_pokemon(pikachu.get_evolution_chain())\n",
    "\n",
    "from IPython.display import Image\n",
    "\n",
    "display(Image(pikachu.image))"
   ]
  },
  {
   "cell_type": "code",
   "execution_count": null,
   "metadata": {},
   "outputs": [],
   "source": []
  },
  {
   "cell_type": "markdown",
   "metadata": {},
   "source": [
    "#  Final Exercise: <br> <br>Create a Move_Tutor Class that will allow the Pokemon Class to inherit a move list.\n",
    "<br>\n",
    "<p>for an added bonus you can make sure that if a pokemon has 4 moves the user can choose one of them to replace with a new move. </p>"
   ]
  },
  {
   "cell_type": "code",
   "execution_count": 10,
   "metadata": {},
   "outputs": [],
   "source": [
    "from requests import get\n",
    "\n",
    "class Move_Tutor:\n",
    "    def __init__(self, name):\n",
    "        self.name = name\n",
    "        self.move_list = []\n",
    "        \n",
    "    def poke_api_call(self):\n",
    "        response = get(f'https://pokeapi.co/api/v2/pokemon/{self.name}')\n",
    "        if response.status_code == 200:\n",
    "            print('success')\n",
    "            data = response.json()\n",
    "            self.name = data['name']\n",
    "            self.move_list = [ability_object['ability']['name'] for ability_object in data['abilities']]\n",
    "    \n",
    "    def teach_move(self):\n",
    "        new_move = input('What move would you like to teach your pokemon?')\n",
    "        if len(self.move_list) < 4:\n",
    "            self.move_list.append(new_move)\n",
    "            print(f'your {self.name} has learned {new_move}')\n",
    "        else:\n",
    "            print('you can\\'t teach this pokemon any other moves')\n",
    "            self.remove_move()\n",
    "    \n",
    "    def remove_move(self):\n",
    "        remove = input(f'which move would you like to unteach? {self.move_list}')\n",
    "        self.move_list.remove(remove)\n",
    "        print(f'Your pokemon has forgotten {remove} skill from its abilities')\n",
    "        self.teach_move()\n",
    "    \n",
    "    def show_moves(self):\n",
    "        print(self.move_list)"
   ]
  },
  {
   "cell_type": "code",
   "execution_count": null,
   "metadata": {},
   "outputs": [],
   "source": [
    "pokemon = Move_Tutor('pikachu')\n",
    "print(pokemon.poke_api_call())\n",
    "pokemon.move_list"
   ]
  },
  {
   "cell_type": "code",
   "execution_count": 12,
   "metadata": {},
   "outputs": [
    {
     "ename": "NameError",
     "evalue": "name 'pikachu' is not defined",
     "output_type": "error",
     "traceback": [
      "\u001b[1;31m---------------------------------------------------------------------------\u001b[0m",
      "\u001b[1;31mNameError\u001b[0m                                 Traceback (most recent call last)",
      "Cell \u001b[1;32mIn[12], line 1\u001b[0m\n\u001b[1;32m----> 1\u001b[0m \u001b[43mpikachu\u001b[49m\u001b[38;5;241m.\u001b[39mteach_move()\n",
      "\u001b[1;31mNameError\u001b[0m: name 'pikachu' is not defined"
     ]
    }
   ],
   "source": [
    "pikachu.teach_move()\n"
   ]
  },
  {
   "cell_type": "code",
   "execution_count": 11,
   "metadata": {},
   "outputs": [
    {
     "ename": "NameError",
     "evalue": "name 'pikachu' is not defined",
     "output_type": "error",
     "traceback": [
      "\u001b[1;31m---------------------------------------------------------------------------\u001b[0m",
      "\u001b[1;31mNameError\u001b[0m                                 Traceback (most recent call last)",
      "Cell \u001b[1;32mIn[11], line 1\u001b[0m\n\u001b[1;32m----> 1\u001b[0m \u001b[43mpikachu\u001b[49m\u001b[38;5;241m.\u001b[39mshow_moves()\n",
      "\u001b[1;31mNameError\u001b[0m: name 'pikachu' is not defined"
     ]
    }
   ],
   "source": [
    "pikachu.show_moves()"
   ]
  },
  {
   "cell_type": "code",
   "execution_count": null,
   "metadata": {},
   "outputs": [],
   "source": []
  }
 ],
 "metadata": {
  "kernelspec": {
   "display_name": "Python 3 (ipykernel)",
   "language": "python",
   "name": "python3"
  },
  "language_info": {
   "codemirror_mode": {
    "name": "ipython",
    "version": 3
   },
   "file_extension": ".py",
   "mimetype": "text/x-python",
   "name": "python",
   "nbconvert_exporter": "python",
   "pygments_lexer": "ipython3",
   "version": "3.10.9"
  }
 },
 "nbformat": 4,
 "nbformat_minor": 4
}
